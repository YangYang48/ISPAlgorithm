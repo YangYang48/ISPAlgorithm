{
 "cells": [
  {
   "cell_type": "code",
   "execution_count": 1,
   "metadata": {
    "collapsed": false,
    "execution": {
     "iopub.execute_input": "2022-05-02T10:40:31.534904Z",
     "iopub.status.busy": "2022-05-02T10:40:31.534492Z",
     "iopub.status.idle": "2022-05-02T10:40:31.770436Z",
     "shell.execute_reply": "2022-05-02T10:40:31.769636Z",
     "shell.execute_reply.started": "2022-05-02T10:40:31.534874Z"
    },
    "jupyter": {
     "outputs_hidden": false
    },
    "scrolled": true
   },
   "outputs": [
    {
     "name": "stdout",
     "output_type": "stream",
     "text": [
      "data143046\n"
     ]
    }
   ],
   "source": [
    "# 查看当前挂载的数据集目录, 该目录下的变更重启环境后会自动还原\n",
    "# View dataset directory. \n",
    "# This directory will be recovered automatically after resetting environment. \n",
    "!ls /home/aistudio/data"
   ]
  },
  {
   "cell_type": "code",
   "execution_count": 2,
   "metadata": {
    "collapsed": false,
    "execution": {
     "iopub.execute_input": "2022-05-02T10:40:31.773472Z",
     "iopub.status.busy": "2022-05-02T10:40:31.772508Z",
     "iopub.status.idle": "2022-05-02T10:40:32.016736Z",
     "shell.execute_reply": "2022-05-02T10:40:32.015793Z",
     "shell.execute_reply.started": "2022-05-02T10:40:31.773437Z"
    },
    "jupyter": {
     "outputs_hidden": false
    },
    "scrolled": true
   },
   "outputs": [],
   "source": [
    "# 查看工作区文件, 该目录下的变更将会持久保存. 请及时清理不必要的文件, 避免加载过慢.\n",
    "# View personal work directory. \n",
    "# All changes under this directory will be kept even after reset. \n",
    "# Please clean unnecessary files in time to speed up environment loading. \n",
    "!ls /home/aistudio/work"
   ]
  },
  {
   "cell_type": "code",
   "execution_count": 3,
   "metadata": {
    "collapsed": false,
    "execution": {
     "iopub.execute_input": "2022-05-02T10:40:32.018896Z",
     "iopub.status.busy": "2022-05-02T10:40:32.018130Z",
     "iopub.status.idle": "2022-05-02T10:40:32.022449Z",
     "shell.execute_reply": "2022-05-02T10:40:32.021869Z",
     "shell.execute_reply.started": "2022-05-02T10:40:32.018862Z"
    },
    "jupyter": {
     "outputs_hidden": false
    },
    "scrolled": true
   },
   "outputs": [],
   "source": [
    "# 如果需要进行持久化安装, 需要使用持久化路径, 如下方代码示例:\n",
    "# If a persistence installation is required, \n",
    "# you need to use the persistence path as the following: \n",
    "# !mkdir /home/aistudio/external-libraries\n",
    "# !pip install beautifulsoup4 -t /home/aistudio/external-libraries"
   ]
  },
  {
   "cell_type": "code",
   "execution_count": 4,
   "metadata": {
    "collapsed": false,
    "execution": {
     "iopub.execute_input": "2022-05-02T10:40:32.023529Z",
     "iopub.status.busy": "2022-05-02T10:40:32.023333Z",
     "iopub.status.idle": "2022-05-02T10:40:32.027676Z",
     "shell.execute_reply": "2022-05-02T10:40:32.027079Z",
     "shell.execute_reply.started": "2022-05-02T10:40:32.023505Z"
    },
    "jupyter": {
     "outputs_hidden": false
    },
    "scrolled": true
   },
   "outputs": [],
   "source": [
    "# 同时添加如下代码, 这样每次环境(kernel)启动的时候只要运行下方代码即可: \n",
    "# Also add the following code, \n",
    "# so that every time the environment (kernel) starts, \n",
    "# just run the following code: \n",
    "import sys \n",
    "sys.path.append('/home/aistudio/external-libraries')"
   ]
  },
  {
   "cell_type": "code",
   "execution_count": 5,
   "metadata": {
    "execution": {
     "iopub.execute_input": "2022-05-02T10:40:32.028718Z",
     "iopub.status.busy": "2022-05-02T10:40:32.028514Z",
     "iopub.status.idle": "2022-05-02T10:40:32.034659Z",
     "shell.execute_reply": "2022-05-02T10:40:32.034066Z",
     "shell.execute_reply.started": "2022-05-02T10:40:32.028694Z"
    },
    "scrolled": true,
    "tags": []
   },
   "outputs": [
    {
     "name": "stdout",
     "output_type": "stream",
     "text": [
      "train_data_length: 338\n",
      "test_data_length: 10\n",
      "['Validations', 'train']\n"
     ]
    }
   ],
   "source": [
    "import os\n",
    "\n",
    "print(\"train_data_length: {}\".format(len(os.listdir(\"/home/aistudio/djddData/train/samples/\"))))\n",
    "print(\"test_data_length: {}\".format(len(os.listdir(\"/home/aistudio/djddData/Validations/samples/\"))))\n",
    "print(os.listdir(\"/home/aistudio/djddData\"))\n",
    "\n",
    "# os.environ['CUDA_VISIBLE_DEVICES'] = '0'"
   ]
  },
  {
   "cell_type": "code",
   "execution_count": 6,
   "metadata": {
    "execution": {
     "iopub.execute_input": "2022-05-02T10:40:32.035994Z",
     "iopub.status.busy": "2022-05-02T10:40:32.035685Z",
     "iopub.status.idle": "2022-05-02T10:40:33.575198Z",
     "shell.execute_reply": "2022-05-02T10:40:33.574423Z",
     "shell.execute_reply.started": "2022-05-02T10:40:32.035969Z"
    },
    "scrolled": true,
    "tags": []
   },
   "outputs": [
    {
     "data": {
      "text/plain": [
       "'2.2.2'"
      ]
     },
     "execution_count": 6,
     "metadata": {},
     "output_type": "execute_result"
    }
   ],
   "source": [
    "import paddle\n",
    "paddle.__version__"
   ]
  },
  {
   "cell_type": "code",
   "execution_count": 7,
   "metadata": {
    "execution": {
     "iopub.execute_input": "2022-05-02T10:40:33.577222Z",
     "iopub.status.busy": "2022-05-02T10:40:33.576535Z",
     "iopub.status.idle": "2022-05-02T10:40:33.587373Z",
     "shell.execute_reply": "2022-05-02T10:40:33.586701Z",
     "shell.execute_reply.started": "2022-05-02T10:40:33.577185Z"
    },
    "scrolled": true,
    "tags": []
   },
   "outputs": [],
   "source": [
    "from paddle.io import Dataset\n",
    "import os\n",
    "from PIL import Image\n",
    "\n",
    "\n",
    "class DJDDData(Dataset):\n",
    "    \"\"\"\n",
    "    步骤一：继承paddle.io.Dataset类\n",
    "    \"\"\"\n",
    "    def __init__(self, root_dir, samples_dir, labels_dir, transform):\n",
    "        \"\"\"\n",
    "        步骤二：实现构造函数，定义数据集大小\n",
    "        \"\"\"\n",
    "        super(DJDDData, self).__init__()\n",
    "        self.root_dir = root_dir\n",
    "        self.samples_dir = samples_dir\n",
    "        self.labels_dir = labels_dir\n",
    "        self.transform = transform\n",
    "        self.samples_list = os.listdir(os.path.join(self.root_dir, self.samples_dir))\n",
    "        self.labels_list = os.listdir(os.path.join(self.root_dir, self.labels_dir))\n",
    "\n",
    "        self.samples_list.sort()\n",
    "        self.labels_list.sort()\n",
    "\n",
    "    def __getitem__(self, index):\n",
    "        \"\"\"\n",
    "        步骤三：实现__getitem__方法，定义指定index时如何获取数据，并返回单条数据（训练数据，对应的标签）\n",
    "        \"\"\"\n",
    "        sampele_name = self.samples_list[index]\n",
    "        label_name = self.labels_list[index]\n",
    "        sampele_item_path = os.path.join(self.root_dir, self.samples_dir, sampele_name)\n",
    "        label_item_path = os.path.join(self.root_dir, self.labels_dir, label_name)\n",
    "\n",
    "        sample = Image.open(sampele_item_path)\n",
    "        label = Image.open(label_item_path)\n",
    "\n",
    "        sample = self.transform(sample)\n",
    "        label = self.transform(label)\n",
    "        \n",
    "        return sample, label\n",
    "\n",
    "    def __len__(self):\n",
    "        \"\"\"\n",
    "        步骤四：实现__len__方法，返回数据集总数目\n",
    "        \"\"\"\n",
    "        assert len(self.samples_list) == len(self.labels_list)\n",
    "        return len(self.samples_list)"
   ]
  },
  {
   "cell_type": "code",
   "execution_count": 8,
   "metadata": {
    "execution": {
     "iopub.execute_input": "2022-05-02T10:40:33.588549Z",
     "iopub.status.busy": "2022-05-02T10:40:33.588352Z",
     "iopub.status.idle": "2022-05-02T10:40:33.599292Z",
     "shell.execute_reply": "2022-05-02T10:40:33.598728Z",
     "shell.execute_reply.started": "2022-05-02T10:40:33.588525Z"
    },
    "scrolled": true,
    "tags": []
   },
   "outputs": [],
   "source": [
    "from paddle import nn\n",
    "import paddle\n",
    "from collections import OrderedDict\n",
    "\n",
    "\n",
    "class DJDDNetWork(nn.Layer):\n",
    "    def __init__(self, width=64, depth=16):\n",
    "        super(DJDDNetWork, self).__init__()\n",
    "\n",
    "        self.width = width\n",
    "        self.depth = depth\n",
    "\n",
    "        # downsampling\n",
    "        self.down_sample = nn.Conv2D(3, 4, kernel_size=2, stride=2, padding=0)\n",
    "  \n",
    "        # mian layers\n",
    "        self.main_layers = nn.Sequential(\n",
    "            (\"Conv_1\", nn.Conv2D(4, 64, kernel_size=3, padding=\"SAME\")),\n",
    "            (\"ReLu_1\", nn.ReLU()),\n",
    "        )\n",
    "        for i in range(1, depth - 1):\n",
    "            in_size = width\n",
    "            out_size = width\n",
    "            self.main_layers.add_sublayer(\"Conv_{}\".format(i+1), nn.Conv2D(in_size, out_size, kernel_size=3, padding=\"SAME\"))\n",
    "            self.main_layers.add_sublayer(\"ReLu_{}\".format(i+1), nn.ReLU())\n",
    "        \n",
    "        # residual\n",
    "        self.residual = nn.Conv2D(width, 12, (1, 1))\n",
    "\n",
    "        # upsample\n",
    "        self.up_sample = nn.Conv2DTranspose(12, 3, (2, 2), stride=(2, 2))\n",
    "\n",
    "        # final processing\n",
    "        self.final_process = nn.Sequential(\n",
    "            nn.Conv2D(6, width, 3, padding=\"SAME\"),\n",
    "            nn.ReLU(),\n",
    "            nn.Conv2D(width, 3, 1, padding=\"SAME\")\n",
    "        )\n",
    "\n",
    "\n",
    "    def forward(self, inputs):\n",
    "        y1 = self.down_sample(inputs)\n",
    "        y2 = self.main_layers(y1)\n",
    "        y3 = self.residual(y2)\n",
    "        y4 = self.up_sample(y3)\n",
    "        y5 = paddle.concat(x=[inputs, y4], axis=1)\n",
    "        y = self.final_process(y5)\n",
    "        return y\n"
   ]
  },
  {
   "cell_type": "code",
   "execution_count": null,
   "metadata": {
    "execution": {
     "iopub.execute_input": "2022-05-02T10:40:33.600603Z",
     "iopub.status.busy": "2022-05-02T10:40:33.600206Z"
    },
    "scrolled": true,
    "tags": []
   },
   "outputs": [
    {
     "name": "stdout",
     "output_type": "stream",
     "text": [
      "len of data is: 338\n",
      "len of data is: 10\n"
     ]
    }
   ],
   "source": [
    "import paddle.vision.transforms as T\n",
    "from paddle.io import DataLoader\n",
    "import datetime\n",
    "import time\n",
    "\n",
    "paddle.device.set_device(\"gpu:0\")\n",
    "# ================ Data =================================\n",
    "# prepare for training data\n",
    "train_root_dir = \"/home/aistudio/djddData/train/\"\n",
    "train_samples_dir = \"samples\"\n",
    "train_labels_dir = \"labels\"\n",
    "\n",
    "# prepare for test data\n",
    "test_root_dir = \"/home/aistudio/djddData/Validations/\"\n",
    "test_samples_dir = \"samples\"\n",
    "test_labels_dir = \"labels\"\n",
    "\n",
    "# set transform.Compose\n",
    "transform = T.Compose([T.ToTensor()])\n",
    "\n",
    "# training data\n",
    "train_dataset = DJDDData(train_root_dir, train_samples_dir, train_labels_dir, transform)\n",
    "print(\"len of data is: {}\".format(train_dataset.__len__()))\n",
    "train_loader = DataLoader(train_dataset, batch_size=16, shuffle=True)\n",
    "\n",
    "# testing data\n",
    "test_dataset = DJDDData(test_root_dir, test_samples_dir, test_labels_dir, transform)\n",
    "print(\"len of data is: {}\".format(test_dataset.__len__()))\n",
    "test_loader = DataLoader(test_dataset, batch_size=8, shuffle=True)\n",
    "# ============= end of data ===============================\n",
    "\n",
    "# ==============training configuration ====================\n",
    "\n",
    "# creata model\n",
    "model = DJDDNetWork()\n",
    "# set trainging epochs\n",
    "epochs = 2000\n",
    "# optimizer\n",
    "opt = paddle.optimizer.Adam(parameters=model.parameters())\n",
    "# set loss function\n",
    "loss_func = paddle.nn.MSELoss()\n",
    "\n",
    "# ==============end of training configuration =============\n",
    "\n",
    "# ==============start tringing ============================\n",
    "\n",
    "training_step = 0\n",
    "start_time = time.time()\n",
    "first_test_flag = True\n",
    "save_model_loss = 0\n",
    "for epoch in range(epochs):\n",
    "    total_train_loss = 0\n",
    "    # set training mode\n",
    "    model.train()\n",
    "    for index, data in enumerate(train_loader):\n",
    "        training_step += 1\n",
    "        samples, labels = data\n",
    "        predict = model(samples)\n",
    "        loss = loss_func(predict, labels)\n",
    "        total_train_loss += loss\n",
    "        loss.backward()\n",
    "        opt.step()\n",
    "        opt.clear_grad()\n",
    "        if training_step % 10 == 0:\n",
    "            print(\n",
    "                    \"--- the {}.th epoch    total training step:{} Loss:{}   used time:{}s    {} ---\".format(\n",
    "                    epoch+1, \n",
    "                    training_step, \n",
    "                    total_train_loss.item(),\n",
    "                    (time.time()-start_time),\n",
    "                    datetime.datetime.now().strftime(\"%Y-%m-%d %H:%M:%S\")\n",
    "                )\n",
    "            )\n",
    "\n",
    "    model.eval()\n",
    "    total_test_loss = 0\n",
    "    for index, test_batch_data in enumerate(test_loader):\n",
    "        test_samples, test_labels = test_batch_data\n",
    "        test_predict = model(test_samples)\n",
    "        test_loss = loss_func(test_predict, test_labels)\n",
    "        total_test_loss += test_loss\n",
    "        if first_test_flag:\n",
    "            first_test_flag = False\n",
    "            save_model_loss = total_test_loss\n",
    "        \n",
    "        if total_test_loss <= save_model_loss:\n",
    "            # save model\n",
    "            print(\"save model\")\n",
    "            paddle.save(model.state_dict(), \"DJDD.pdparams\")\n",
    "            paddle.save(opt.state_dict(), \"adam.pdopt\")\n",
    "    print(\"loss on test data: {}\".format(total_test_loss))\n"
   ]
  },
  {
   "cell_type": "code",
   "execution_count": null,
   "metadata": {
    "scrolled": true
   },
   "outputs": [],
   "source": []
  },
  {
   "cell_type": "code",
   "execution_count": null,
   "metadata": {
    "scrolled": true
   },
   "outputs": [],
   "source": []
  },
  {
   "cell_type": "markdown",
   "metadata": {},
   "source": [
    "请点击[此处](https://ai.baidu.com/docs#/AIStudio_Project_Notebook/a38e5576)查看本环境基本用法.  <br>\n",
    "Please click [here ](https://ai.baidu.com/docs#/AIStudio_Project_Notebook/a38e5576) for more detailed instructions. "
   ]
  }
 ],
 "metadata": {
  "kernelspec": {
   "display_name": "Python 3",
   "language": "python",
   "name": "py35-paddle1.2.0"
  },
  "language_info": {
   "codemirror_mode": {
    "name": "ipython",
    "version": 3
   },
   "file_extension": ".py",
   "mimetype": "text/x-python",
   "name": "python",
   "nbconvert_exporter": "python",
   "pygments_lexer": "ipython3",
   "version": "3.7.4"
  }
 },
 "nbformat": 4,
 "nbformat_minor": 4
}
